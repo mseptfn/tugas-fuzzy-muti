{
  "cells": [
    {
      "cell_type": "markdown",
      "id": "3a6b58fd-5e55-4561-a08f-221f4cc784c1",
      "metadata": {
        "id": "3a6b58fd-5e55-4561-a08f-221f4cc784c1"
      },
      "source": [
        "### Soal Latihan"
      ]
    },
    {
      "cell_type": "markdown",
      "id": "9d41471b-cb50-467b-8b1e-4020e01481b2",
      "metadata": {
        "id": "9d41471b-cb50-467b-8b1e-4020e01481b2"
      },
      "source": [
        "1. Buat Implementasi dengan menggunakan python untuk menghitung Fuzzy Inference System berikut dengan metode tsukamoto"
      ]
    },
    {
      "cell_type": "code",
      "execution_count": 1,
      "id": "47d7784c-dc32-41aa-8a82-33ecf6c91e95",
      "metadata": {
        "id": "47d7784c-dc32-41aa-8a82-33ecf6c91e95",
        "outputId": "f0ff316e-9a50-4dbc-e146-e8083b45e1f9",
        "colab": {
          "base_uri": "https://localhost:8080/"
        }
      },
      "outputs": [
        {
          "output_type": "stream",
          "name": "stdout",
          "text": [
            "Hasil produksi untuk permintaan 2500 dan persediaan 300 adalah 3800.00\n"
          ]
        }
      ],
      "source": [
        "import numpy as np\n",
        "\n",
        "def permintaan_turun(x):\n",
        "    return max(0, min((3000 - x) / 2000, 1))\n",
        "\n",
        "def permintaan_tetap(x):\n",
        "    return max(0, min((x - 1000) / 2000, (5000 - x) / 2000))\n",
        "\n",
        "def permintaan_naik(x):\n",
        "    return max(0, min((x - 3000) / 2000, 1))\n",
        "\n",
        "def persediaan_sedikit(x):\n",
        "    return max(0, min((400 - x) / 400, 1))\n",
        "\n",
        "def persediaan_sedang(x):\n",
        "    return max(0, min((x - 200) / 200, (800 - x) / 200))\n",
        "\n",
        "def persediaan_banyak(x):\n",
        "    return max(0, min((x - 600) / 400, 1))\n",
        "\n",
        "def produksi_berkurang(z):\n",
        "    return max(0, min((6000 - z) / 4000, 1))\n",
        "\n",
        "def produksi_bertambah(z):\n",
        "    return max(0, min((z - 2000) / 4000, 1))\n",
        "\n",
        "def tsukamoto(permintaan, persediaan):\n",
        "    rules = []\n",
        "\n",
        "    # Jika Permintaan Turun dan Persediaan Sedikit maka produksi Bertambah\n",
        "    mu1 = min(permintaan_turun(permintaan), persediaan_sedikit(persediaan))\n",
        "    z1 = 2000 + 4000 * mu1  # Produksi Bertambah\n",
        "    rules.append((mu1, z1))\n",
        "\n",
        "    # Jika Permintaan Turun dan Persediaan Sedang maka produksi Berkurang\n",
        "    mu2 = min(permintaan_turun(permintaan), persediaan_sedang(persediaan))\n",
        "    z2 = 6000 - 4000 * mu2  # Produksi Berkurang\n",
        "    rules.append((mu2, z2))\n",
        "\n",
        "    # Jika Permintaan Turun dan Persediaan Banyak maka produksi Berkurang\n",
        "    mu3 = min(permintaan_turun(permintaan), persediaan_banyak(persediaan))\n",
        "    z3 = 6000 - 4000 * mu3\n",
        "    rules.append((mu3, z3))\n",
        "\n",
        "    # Jika Permintaan Tetap dan Persediaan Sedikit maka produksi Bertambah\n",
        "    mu4 = min(permintaan_tetap(permintaan), persediaan_sedikit(persediaan))\n",
        "    z4 = 2000 + 4000 * mu4\n",
        "    rules.append((mu4, z4))\n",
        "\n",
        "    # Jika Permintaan Tetap dan Persediaan Sedang maka produksi Berkurang\n",
        "    mu5 = min(permintaan_tetap(permintaan), persediaan_sedang(persediaan))\n",
        "    z5 = 6000 - 4000 * mu5\n",
        "    rules.append((mu5, z5))\n",
        "\n",
        "    # Jika Permintaan Tetap dan Persediaan Banyak maka produksi Berkurang\n",
        "    mu6 = min(permintaan_tetap(permintaan), persediaan_banyak(persediaan))\n",
        "    z6 = 6000 - 4000 * mu6\n",
        "    rules.append((mu6, z6))\n",
        "\n",
        "    # Jika Permintaan Naik dan Persediaan Sedikit maka produksi Bertambah\n",
        "    mu7 = min(permintaan_naik(permintaan), persediaan_sedikit(persediaan))\n",
        "    z7 = 2000 + 4000 * mu7\n",
        "    rules.append((mu7, z7))\n",
        "\n",
        "    # Jika Permintaan Naik dan Persediaan Sedang maka produksi Bertambah\n",
        "    mu8 = min(permintaan_naik(permintaan), persediaan_sedang(persediaan))\n",
        "    z8 = 2000 + 4000 * mu8\n",
        "    rules.append((mu8, z8))\n",
        "\n",
        "    # Jika Permintaan Naik dan Persediaan Banyak maka produksi Berkurang\n",
        "    mu9 = min(permintaan_naik(permintaan), persediaan_banyak(persediaan))\n",
        "    z9 = 6000 - 4000 * mu9\n",
        "    rules.append((mu9, z9))\n",
        "\n",
        "    # Defuzzification\n",
        "    numerator = sum(mu * z for mu, z in rules)\n",
        "    denominator = sum(mu for mu, _ in rules)\n",
        "\n",
        "    return numerator / denominator if denominator != 0 else 0\n",
        "\n",
        "# Contoh perhitungan\n",
        "permintaan = 2500\n",
        "persediaan = 300\n",
        "hasil_produksi = tsukamoto(permintaan, persediaan)\n",
        "print(f\"Hasil produksi untuk permintaan {permintaan} dan persediaan {persediaan} adalah {hasil_produksi:.2f}\")\n"
      ]
    },
    {
      "cell_type": "markdown",
      "id": "7de37613-ef49-4a94-9512-dd853841f095",
      "metadata": {
        "id": "7de37613-ef49-4a94-9512-dd853841f095"
      },
      "source": [
        "Rule:\n",
        "- Jika Permintaan **Turun** dan Persediaan **Sedikit** maka produksi **Bertambah**\n",
        "- Jika Permintaan **Turun** dan Persediaan **Sedang** maka produksi **Berkurang**\n",
        "- Jika Permintaan **Turun** dan Persediaan **Banyak** maka produksi **Berkurang**\n",
        "- Jika Permintaan **Tetap** dan Persediaan **Sedikit** maka produksi **Bertambah**\n",
        "- Jika Permintaan **Tetap** dan Persediaan **Sedang** maka produksi **Berkurang**\n",
        "- Jika Permintaan **Tetap** dan Persediaan **Banyak** maka produksi **Berkurang**\n",
        "- Jika Permintaan **Naik** dan Persediaan **Sedikit** maka produksi **Bertambah**\n",
        "- Jika Permintaan **Naik** dan Persediaan **Sedang** maka produksi **Bertambah**\n",
        "- Jika Permintaan **Naik** dan Persediaan **Banyak** maka produksi **Berkurang**"
      ]
    },
    {
      "cell_type": "markdown",
      "id": "64b58d73-1643-4aa1-86de-0df35f05b683",
      "metadata": {
        "id": "64b58d73-1643-4aa1-86de-0df35f05b683"
      },
      "source": [
        "2. Buat Slide yang berisikan contoh penghitungan manual dari soal diatas!"
      ]
    }
  ],
  "metadata": {
    "kernelspec": {
      "display_name": "Python 3 (ipykernel)",
      "language": "python",
      "name": "python3"
    },
    "language_info": {
      "codemirror_mode": {
        "name": "ipython",
        "version": 3
      },
      "file_extension": ".py",
      "mimetype": "text/x-python",
      "name": "python",
      "nbconvert_exporter": "python",
      "pygments_lexer": "ipython3",
      "version": "3.9.13"
    },
    "colab": {
      "provenance": []
    }
  },
  "nbformat": 4,
  "nbformat_minor": 5
}